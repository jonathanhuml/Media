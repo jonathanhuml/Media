{
 "cells": [
  {
   "cell_type": "code",
   "execution_count": 74,
   "metadata": {},
   "outputs": [],
   "source": [
    "from goodreads import client\n",
    "import numpy as np\n",
    "gc = client.GoodreadsClient(CLIENT_ID, CLIENT_SECRET)"
   ]
  },
  {
   "cell_type": "code",
   "execution_count": 75,
   "metadata": {},
   "outputs": [],
   "source": [
    "like_list = ['The Brothers Karamazov','A Portrait of the Artist as a Young Man', 'Chronicles: Volume One']"
   ]
  },
  {
   "cell_type": "code",
   "execution_count": 76,
   "metadata": {},
   "outputs": [],
   "source": [
    "like_ids = []\n",
    "similar_ids = []\n",
    "for like in like_list:\n",
    "    book = gc.search_books(like)[0] #get first result from API. it corrects for possible spelling errors\n",
    "    like_ids.append(book.gid)\n",
    "    \n",
    "    similar_book_list = book.similar_books #turn a list of GoodreadsBook objects into ids\n",
    "    \n",
    "    new_list = []\n",
    "    for j in similar_book_list:\n",
    "        new_list.append(j.gid)\n",
    "    similar_ids.append(new_list)"
   ]
  },
  {
   "cell_type": "code",
   "execution_count": 77,
   "metadata": {},
   "outputs": [],
   "source": [
    "zipObj = zip(like_ids , similar_ids)\n",
    "book_dict = dict(zipObj)\n",
    "#book_dict"
   ]
  },
  {
   "cell_type": "code",
   "execution_count": 78,
   "metadata": {},
   "outputs": [
    {
     "data": {
      "text/plain": [
       "[[59, 42, 85, 68, 21, 34, 49, 55, 60, 39],\n",
       " [80, 70, 1, 3, 34, 86, 53, 79, 59, 97],\n",
       " [30, 58, 92, 7, 71, 0, 23, 62, 87, 84]]"
      ]
     },
     "execution_count": 78,
     "metadata": {},
     "output_type": "execute_result"
    }
   ],
   "source": [
    "#trying to abstract the previous problem to get solution more quickly\n",
    "import random\n",
    "ids = []\n",
    "for like in like_list:\n",
    "    s_list = random.sample(range(100), 10)\n",
    "    \n",
    "    new_list = []\n",
    "    for j in range(len(s_list)):\n",
    "        new_list.append(s_list[j])\n",
    "    ids.append(new_list)\n",
    "ids        "
   ]
  },
  {
   "cell_type": "code",
   "execution_count": 79,
   "metadata": {},
   "outputs": [],
   "source": [
    "import plotly.graph_objects as go\n",
    "import networkx as nx\n",
    "from itertools import product\n",
    "\n",
    "H = nx.Graph()\n",
    "\n",
    "x = list(map(int, like_ids)) \n",
    "\n",
    "for k in range(len(like_list)):\n",
    "    H.add_edges_from(list(product([x[k]],list(map(int, similar_ids[k])))))\n",
    "\n",
    "\n",
    "#G.add_edges_from(list(product([x[0]],y0)))\n",
    "\n",
    "for t in range(len(like_list)):\n",
    "    subbooks = list(map(int, similar_ids[t]))\n",
    "\n",
    "    subsubbooks = gc.book(subbooks[t]).similar_books\n",
    "\n",
    "    for i in range(len(subsubbooks)):\n",
    "        subsubbooks[i] = subsubbooks[i].gid\n",
    "        \n",
    "    H.add_edges_from(list(product(subbooks,list(map(int, subsubbooks)))))"
   ]
  },
  {
   "cell_type": "code",
   "execution_count": 124,
   "metadata": {},
   "outputs": [
    {
     "data": {
      "image/png": "[encoded data removed]",
      "text/plain": [
       "<Figure size 432x288 with 1 Axes>"
      ]
     },
     "metadata": {},
     "output_type": "display_data"
    }
   ],
   "source": [
    "import matplotlib.pyplot as plt\n",
    "plt.subplot(121)\n",
    "nx.draw(H, with_labels=False, font_weight='bold')"
   ]
  },
  {
   "cell_type": "code",
   "execution_count": 112,
   "metadata": {},
   "outputs": [
    {
     "data": {
      "text/plain": [
       "['4934', '7588', '14318']"
      ]
     },
     "execution_count": 112,
     "metadata": {},
     "output_type": "execute_result"
    }
   ],
   "source": [
    "like_ids"
   ]
  },
  {
   "cell_type": "code",
   "execution_count": 113,
   "metadata": {},
   "outputs": [
    {
     "data": {
      "text/plain": [
       "{4934: 0.1111111111111111,\n",
       " 18114322: 0.1111111111111111,\n",
       " 226378: 0.1111111111111111,\n",
       " 15823480: 0.5151515151515151,\n",
       " 656: 0.1111111111111111,\n",
       " 117833: 0.1111111111111111,\n",
       " 28381: 0.1111111111111111,\n",
       " 18386: 0.1111111111111111,\n",
       " 17690: 0.1111111111111111,\n",
       " 19117: 0.1111111111111111,\n",
       " 49552: 0.1111111111111111,\n",
       " 11989: 0.1111111111111111,\n",
       " 320: 0.1111111111111111,\n",
       " 3836: 0.1111111111111111,\n",
       " 485894: 0.1111111111111111,\n",
       " 97390: 0.1111111111111111,\n",
       " 254308: 0.1111111111111111,\n",
       " 2175: 0.14603174603174604,\n",
       " 42641: 0.1111111111111111,\n",
       " 7588: 0.49019607843137253,\n",
       " 59716: 0.49019607843137253,\n",
       " 14942: 0.49019607843137253,\n",
       " 10975: 0.49019607843137253,\n",
       " 4900: 0.6413793103448275,\n",
       " 17716: 0.6413793103448275,\n",
       " 77013: 0.49019607843137253,\n",
       " 2794: 0.49019607843137253,\n",
       " 34080: 0.6413793103448275,\n",
       " 12749: 0.49019607843137253,\n",
       " 32071: 0.49019607843137253,\n",
       " 3876: 0.49019607843137253,\n",
       " 595038: 0.49019607843137253,\n",
       " 7628: 0.6413793103448275,\n",
       " 333314: 0.49019607843137253,\n",
       " 45195: 0.49019607843137253,\n",
       " 7805: 0.49019607843137253,\n",
       " 7604: 0.6413793103448275,\n",
       " 13368: 0.49019607843137253,\n",
       " 14318: 0.7647058823529411,\n",
       " 132038: 0.7784615384615384,\n",
       " 9439303: 0.7784615384615384,\n",
       " 761256: 0.7647058823529411,\n",
       " 14595: 0.7784615384615384,\n",
       " 62837: 0.7784615384615384,\n",
       " 691520: 0.7647058823529411,\n",
       " 13235689: 0.7784615384615384,\n",
       " 341879: 0.7647058823529411,\n",
       " 13586786: 0.7784615384615384,\n",
       " 676555: 0.7647058823529411,\n",
       " 29393: 0.7647058823529411,\n",
       " 21198651: 0.7784615384615384,\n",
       " 829313: 0.7647058823529411,\n",
       " 35488: 0.7647058823529411,\n",
       " 253698: 0.7784615384615384,\n",
       " 1207904: 0.7647058823529411,\n",
       " 141565: 0.7647058823529411,\n",
       " 101636: 0.7784615384615384,\n",
       " 7624: 0.1111111111111111,\n",
       " 2657: 0.1111111111111111,\n",
       " 5107: 0.1111111111111111,\n",
       " 4671: 0.1111111111111111,\n",
       " 2165: 0.1111111111111111,\n",
       " 40961427: 0.1111111111111111,\n",
       " 332613: 0.1111111111111111,\n",
       " 12296: 0.1111111111111111,\n",
       " 168668: 0.1111111111111111,\n",
       " 76620: 0.1111111111111111,\n",
       " 2956: 0.1111111111111111,\n",
       " 170448: 0.1111111111111111,\n",
       " 18405: 0.1111111111111111,\n",
       " 7144: 0.1111111111111111,\n",
       " 4981: 0.1111111111111111,\n",
       " 5129: 0.1111111111111111,\n",
       " 11899: 0.49019607843137253,\n",
       " 6514: 0.49019607843137253,\n",
       " 11012: 0.49019607843137253,\n",
       " 5297: 0.49019607843137253,\n",
       " 6149: 0.49019607843137253,\n",
       " 38374795: 0.49019607843137253,\n",
       " 6185: 0.49019607843137253,\n",
       " 25622780: 0.49019607843137253,\n",
       " 10210: 0.49019607843137253,\n",
       " 35031085: 0.49019607843137253,\n",
       " 338798: 0.49019607843137253,\n",
       " 100213: 0.7647058823529411,\n",
       " 286045: 0.7647058823529411,\n",
       " 132040: 0.7647058823529411,\n",
       " 78281: 0.7647058823529411,\n",
       " 191241: 0.7647058823529411,\n",
       " 896855: 0.7647058823529411,\n",
       " 1438457: 0.7647058823529411,\n",
       " 32075837: 0.7647058823529411}"
      ]
     },
     "execution_count": 113,
     "metadata": {},
     "output_type": "execute_result"
    }
   ],
   "source": [
    "nx.clustering(H)"
   ]
  },
  {
   "cell_type": "code",
   "execution_count": 126,
   "metadata": {},
   "outputs": [
    {
     "data": {
      "text/plain": [
       "Room Full of Mirrors: A Biography of Jimi Hendrix"
      ]
     },
     "execution_count": 126,
     "metadata": {},
     "output_type": "execute_result"
    }
   ],
   "source": [
    "gc.book(101636)"
   ]
  },
  {
   "cell_type": "code",
   "execution_count": null,
   "metadata": {},
   "outputs": [],
   "source": []
  }
 ],
 "metadata": {
  "kernelspec": {
   "display_name": "Python 3",
   "language": "python",
   "name": "python3"
  },
  "language_info": {
   "codemirror_mode": {
    "name": "ipython",
    "version": 3
   },
   "file_extension": ".py",
   "mimetype": "text/x-python",
   "name": "python",
   "nbconvert_exporter": "python",
   "pygments_lexer": "ipython3",
   "version": "3.8.3"
  }
 },
 "nbformat": 4,
 "nbformat_minor": 4
}
